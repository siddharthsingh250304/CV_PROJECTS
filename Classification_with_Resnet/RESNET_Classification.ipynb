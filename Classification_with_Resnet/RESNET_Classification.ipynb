{
 "cells": [
  {
   "cell_type": "code",
   "execution_count": 1,
   "id": "556e4ec2",
   "metadata": {},
   "outputs": [
    {
     "name": "stdout",
     "output_type": "stream",
     "text": [
      "=== Training ModifiedResNet18_C (Scratch) ===\n"
     ]
    },
    {
     "name": "stderr",
     "output_type": "stream",
     "text": [
      "\u001b[34m\u001b[1mwandb\u001b[0m: Currently logged in as: \u001b[33msiddharth-singh2504\u001b[0m (\u001b[33msiddharth-singh2504-iiit-hyderabad\u001b[0m). Use \u001b[1m`wandb login --relogin`\u001b[0m to force relogin\n",
      "\u001b[34m\u001b[1mwandb\u001b[0m: Using wandb-core as the SDK backend.  Please refer to https://wandb.me/wandb-core for more information.\n"
     ]
    },
    {
     "data": {
      "text/html": [
       "Tracking run with wandb version 0.19.4"
      ],
      "text/plain": [
       "<IPython.core.display.HTML object>"
      ]
     },
     "metadata": {},
     "output_type": "display_data"
    },
    {
     "data": {
      "text/html": [
       "Run data is saved locally in <code>/mnt/c/Users/siddharth/md-intro-tutorial/md-intro-tutorial-main/wandb/run-20250214_180756-joajijxs</code>"
      ],
      "text/plain": [
       "<IPython.core.display.HTML object>"
      ]
     },
     "metadata": {},
     "output_type": "display_data"
    },
    {
     "data": {
      "text/html": [
       "Syncing run <strong><a href='https://wandb.ai/siddharth-singh2504-iiit-hyderabad/resnet-experiments/runs/joajijxs' target=\"_blank\">breathless-crush-31</a></strong> to <a href='https://wandb.ai/siddharth-singh2504-iiit-hyderabad/resnet-experiments' target=\"_blank\">Weights & Biases</a> (<a href='https://wandb.me/developer-guide' target=\"_blank\">docs</a>)<br>"
      ],
      "text/plain": [
       "<IPython.core.display.HTML object>"
      ]
     },
     "metadata": {},
     "output_type": "display_data"
    },
    {
     "data": {
      "text/html": [
       " View project at <a href='https://wandb.ai/siddharth-singh2504-iiit-hyderabad/resnet-experiments' target=\"_blank\">https://wandb.ai/siddharth-singh2504-iiit-hyderabad/resnet-experiments</a>"
      ],
      "text/plain": [
       "<IPython.core.display.HTML object>"
      ]
     },
     "metadata": {},
     "output_type": "display_data"
    },
    {
     "data": {
      "text/html": [
       " View run at <a href='https://wandb.ai/siddharth-singh2504-iiit-hyderabad/resnet-experiments/runs/joajijxs' target=\"_blank\">https://wandb.ai/siddharth-singh2504-iiit-hyderabad/resnet-experiments/runs/joajijxs</a>"
      ],
      "text/plain": [
       "<IPython.core.display.HTML object>"
      ]
     },
     "metadata": {},
     "output_type": "display_data"
    },
    {
     "data": {
      "text/html": [],
      "text/plain": [
       "<IPython.core.display.HTML object>"
      ]
     },
     "metadata": {},
     "output_type": "display_data"
    },
    {
     "data": {
      "text/html": [
       " View run <strong style=\"color:#cdcd00\">Modified_Scratch_C</strong> at: <a href='https://wandb.ai/siddharth-singh2504-iiit-hyderabad/resnet-experiments/runs/joajijxs' target=\"_blank\">https://wandb.ai/siddharth-singh2504-iiit-hyderabad/resnet-experiments/runs/joajijxs</a><br> View project at: <a href='https://wandb.ai/siddharth-singh2504-iiit-hyderabad/resnet-experiments' target=\"_blank\">https://wandb.ai/siddharth-singh2504-iiit-hyderabad/resnet-experiments</a><br>Synced 5 W&B file(s), 0 media file(s), 0 artifact file(s) and 0 other file(s)"
      ],
      "text/plain": [
       "<IPython.core.display.HTML object>"
      ]
     },
     "metadata": {},
     "output_type": "display_data"
    },
    {
     "data": {
      "text/html": [
       "Find logs at: <code>./wandb/run-20250214_180756-joajijxs/logs</code>"
      ],
      "text/plain": [
       "<IPython.core.display.HTML object>"
      ]
     },
     "metadata": {},
     "output_type": "display_data"
    },
    {
     "data": {
      "text/html": [
       "Tracking run with wandb version 0.19.4"
      ],
      "text/plain": [
       "<IPython.core.display.HTML object>"
      ]
     },
     "metadata": {},
     "output_type": "display_data"
    },
    {
     "data": {
      "text/html": [
       "Run data is saved locally in <code>/mnt/c/Users/siddharth/md-intro-tutorial/md-intro-tutorial-main/wandb/run-20250214_180757-j7yut33e</code>"
      ],
      "text/plain": [
       "<IPython.core.display.HTML object>"
      ]
     },
     "metadata": {},
     "output_type": "display_data"
    },
    {
     "data": {
      "text/html": [
       "Syncing run <strong><a href='https://wandb.ai/siddharth-singh2504-iiit-hyderabad/resnet-experiments/runs/j7yut33e' target=\"_blank\">Modified_Scratch_C</a></strong> to <a href='https://wandb.ai/siddharth-singh2504-iiit-hyderabad/resnet-experiments' target=\"_blank\">Weights & Biases</a> (<a href='https://wandb.me/developer-guide' target=\"_blank\">docs</a>)<br>"
      ],
      "text/plain": [
       "<IPython.core.display.HTML object>"
      ]
     },
     "metadata": {},
     "output_type": "display_data"
    },
    {
     "data": {
      "text/html": [
       " View project at <a href='https://wandb.ai/siddharth-singh2504-iiit-hyderabad/resnet-experiments' target=\"_blank\">https://wandb.ai/siddharth-singh2504-iiit-hyderabad/resnet-experiments</a>"
      ],
      "text/plain": [
       "<IPython.core.display.HTML object>"
      ]
     },
     "metadata": {},
     "output_type": "display_data"
    },
    {
     "data": {
      "text/html": [
       " View run at <a href='https://wandb.ai/siddharth-singh2504-iiit-hyderabad/resnet-experiments/runs/j7yut33e' target=\"_blank\">https://wandb.ai/siddharth-singh2504-iiit-hyderabad/resnet-experiments/runs/j7yut33e</a>"
      ],
      "text/plain": [
       "<IPython.core.display.HTML object>"
      ]
     },
     "metadata": {},
     "output_type": "display_data"
    },
    {
     "name": "stdout",
     "output_type": "stream",
     "text": [
      "Epoch 1: Train Loss: 1.4596, Train Acc: 46.18% | Test Loss: 1.1201, Test Acc: 59.57% | LR: 0.001\n",
      "Epoch 2: Train Loss: 1.0321, Train Acc: 63.13% | Test Loss: 0.9603, Test Acc: 66.30% | LR: 0.001\n",
      "Epoch 3: Train Loss: 0.8482, Train Acc: 70.06% | Test Loss: 0.8312, Test Acc: 71.38% | LR: 0.001\n",
      "Epoch 4: Train Loss: 0.7080, Train Acc: 75.34% | Test Loss: 0.7404, Test Acc: 73.93% | LR: 0.001\n",
      "Epoch 5: Train Loss: 0.6071, Train Acc: 79.14% | Test Loss: 0.6810, Test Acc: 76.49% | LR: 0.001\n",
      "Epoch 6: Train Loss: 0.5259, Train Acc: 81.84% | Test Loss: 0.5956, Test Acc: 79.83% | LR: 0.001\n",
      "Epoch 7: Train Loss: 0.4614, Train Acc: 83.97% | Test Loss: 0.5038, Test Acc: 82.82% | LR: 0.001\n",
      "Epoch 8: Train Loss: 0.4029, Train Acc: 86.15% | Test Loss: 0.5872, Test Acc: 81.08% | LR: 0.001\n",
      "Epoch 9: Train Loss: 0.3521, Train Acc: 87.82% | Test Loss: 0.4624, Test Acc: 84.52% | LR: 0.001\n",
      "Epoch 10: Train Loss: 0.3082, Train Acc: 89.35% | Test Loss: 0.5299, Test Acc: 82.94% | LR: 0.001\n"
     ]
    },
    {
     "data": {
      "text/html": [],
      "text/plain": [
       "<IPython.core.display.HTML object>"
      ]
     },
     "metadata": {},
     "output_type": "display_data"
    },
    {
     "data": {
      "text/html": [
       "<br>    <style><br>        .wandb-row {<br>            display: flex;<br>            flex-direction: row;<br>            flex-wrap: wrap;<br>            justify-content: flex-start;<br>            width: 100%;<br>        }<br>        .wandb-col {<br>            display: flex;<br>            flex-direction: column;<br>            flex-basis: 100%;<br>            flex: 1;<br>            padding: 10px;<br>        }<br>    </style><br><div class=\"wandb-row\"><div class=\"wandb-col\"><h3>Run history:</h3><br/><table class=\"wandb\"><tr><td>epoch</td><td>▁▂▃▃▄▅▆▆▇█</td></tr><tr><td>learning_rate</td><td>▁▁▁▁▁▁▁▁▁▁</td></tr><tr><td>test_accuracy</td><td>▁▃▄▅▆▇█▇██</td></tr><tr><td>test_loss</td><td>█▆▅▄▃▂▁▂▁▂</td></tr><tr><td>train_accuracy</td><td>▁▄▅▆▆▇▇▇██</td></tr><tr><td>train_loss</td><td>█▅▄▃▃▂▂▂▁▁</td></tr></table><br/></div><div class=\"wandb-col\"><h3>Run summary:</h3><br/><table class=\"wandb\"><tr><td>epoch</td><td>10</td></tr><tr><td>learning_rate</td><td>0.001</td></tr><tr><td>test_accuracy</td><td>82.94</td></tr><tr><td>test_loss</td><td>0.52993</td></tr><tr><td>train_accuracy</td><td>89.346</td></tr><tr><td>train_loss</td><td>0.30817</td></tr></table><br/></div></div>"
      ],
      "text/plain": [
       "<IPython.core.display.HTML object>"
      ]
     },
     "metadata": {},
     "output_type": "display_data"
    },
    {
     "data": {
      "text/html": [
       " View run <strong style=\"color:#cdcd00\">Modified_Scratch_C</strong> at: <a href='https://wandb.ai/siddharth-singh2504-iiit-hyderabad/resnet-experiments/runs/j7yut33e' target=\"_blank\">https://wandb.ai/siddharth-singh2504-iiit-hyderabad/resnet-experiments/runs/j7yut33e</a><br> View project at: <a href='https://wandb.ai/siddharth-singh2504-iiit-hyderabad/resnet-experiments' target=\"_blank\">https://wandb.ai/siddharth-singh2504-iiit-hyderabad/resnet-experiments</a><br>Synced 2 W&B file(s), 0 media file(s), 0 artifact file(s) and 0 other file(s)"
      ],
      "text/plain": [
       "<IPython.core.display.HTML object>"
      ]
     },
     "metadata": {},
     "output_type": "display_data"
    },
    {
     "data": {
      "text/html": [
       "Find logs at: <code>./wandb/run-20250214_180757-j7yut33e/logs</code>"
      ],
      "text/plain": [
       "<IPython.core.display.HTML object>"
      ]
     },
     "metadata": {},
     "output_type": "display_data"
    },
    {
     "name": "stdout",
     "output_type": "stream",
     "text": [
      "=== Training ModifiedResNet18_Pretrained_A ===\n"
     ]
    },
    {
     "data": {
      "text/html": [
       "Tracking run with wandb version 0.19.4"
      ],
      "text/plain": [
       "<IPython.core.display.HTML object>"
      ]
     },
     "metadata": {},
     "output_type": "display_data"
    },
    {
     "data": {
      "text/html": [
       "Run data is saved locally in <code>/mnt/c/Users/siddharth/md-intro-tutorial/md-intro-tutorial-main/wandb/run-20250214_204811-hkk1e969</code>"
      ],
      "text/plain": [
       "<IPython.core.display.HTML object>"
      ]
     },
     "metadata": {},
     "output_type": "display_data"
    },
    {
     "data": {
      "text/html": [
       "Syncing run <strong><a href='https://wandb.ai/siddharth-singh2504-iiit-hyderabad/resnet-experiments/runs/hkk1e969' target=\"_blank\">smitten-etchings-33</a></strong> to <a href='https://wandb.ai/siddharth-singh2504-iiit-hyderabad/resnet-experiments' target=\"_blank\">Weights & Biases</a> (<a href='https://wandb.me/developer-guide' target=\"_blank\">docs</a>)<br>"
      ],
      "text/plain": [
       "<IPython.core.display.HTML object>"
      ]
     },
     "metadata": {},
     "output_type": "display_data"
    },
    {
     "data": {
      "text/html": [
       " View project at <a href='https://wandb.ai/siddharth-singh2504-iiit-hyderabad/resnet-experiments' target=\"_blank\">https://wandb.ai/siddharth-singh2504-iiit-hyderabad/resnet-experiments</a>"
      ],
      "text/plain": [
       "<IPython.core.display.HTML object>"
      ]
     },
     "metadata": {},
     "output_type": "display_data"
    },
    {
     "data": {
      "text/html": [
       " View run at <a href='https://wandb.ai/siddharth-singh2504-iiit-hyderabad/resnet-experiments/runs/hkk1e969' target=\"_blank\">https://wandb.ai/siddharth-singh2504-iiit-hyderabad/resnet-experiments/runs/hkk1e969</a>"
      ],
      "text/plain": [
       "<IPython.core.display.HTML object>"
      ]
     },
     "metadata": {},
     "output_type": "display_data"
    },
    {
     "data": {
      "text/html": [],
      "text/plain": [
       "<IPython.core.display.HTML object>"
      ]
     },
     "metadata": {},
     "output_type": "display_data"
    },
    {
     "data": {
      "text/html": [
       " View run <strong style=\"color:#cdcd00\">Modified_Pretrained_A</strong> at: <a href='https://wandb.ai/siddharth-singh2504-iiit-hyderabad/resnet-experiments/runs/hkk1e969' target=\"_blank\">https://wandb.ai/siddharth-singh2504-iiit-hyderabad/resnet-experiments/runs/hkk1e969</a><br> View project at: <a href='https://wandb.ai/siddharth-singh2504-iiit-hyderabad/resnet-experiments' target=\"_blank\">https://wandb.ai/siddharth-singh2504-iiit-hyderabad/resnet-experiments</a><br>Synced 5 W&B file(s), 0 media file(s), 0 artifact file(s) and 0 other file(s)"
      ],
      "text/plain": [
       "<IPython.core.display.HTML object>"
      ]
     },
     "metadata": {},
     "output_type": "display_data"
    },
    {
     "data": {
      "text/html": [
       "Find logs at: <code>./wandb/run-20250214_204811-hkk1e969/logs</code>"
      ],
      "text/plain": [
       "<IPython.core.display.HTML object>"
      ]
     },
     "metadata": {},
     "output_type": "display_data"
    },
    {
     "data": {
      "text/html": [
       "Tracking run with wandb version 0.19.4"
      ],
      "text/plain": [
       "<IPython.core.display.HTML object>"
      ]
     },
     "metadata": {},
     "output_type": "display_data"
    },
    {
     "data": {
      "text/html": [
       "Run data is saved locally in <code>/mnt/c/Users/siddharth/md-intro-tutorial/md-intro-tutorial-main/wandb/run-20250214_204812-hp327w24</code>"
      ],
      "text/plain": [
       "<IPython.core.display.HTML object>"
      ]
     },
     "metadata": {},
     "output_type": "display_data"
    },
    {
     "data": {
      "text/html": [
       "Syncing run <strong><a href='https://wandb.ai/siddharth-singh2504-iiit-hyderabad/resnet-experiments/runs/hp327w24' target=\"_blank\">Modified_Pretrained_A</a></strong> to <a href='https://wandb.ai/siddharth-singh2504-iiit-hyderabad/resnet-experiments' target=\"_blank\">Weights & Biases</a> (<a href='https://wandb.me/developer-guide' target=\"_blank\">docs</a>)<br>"
      ],
      "text/plain": [
       "<IPython.core.display.HTML object>"
      ]
     },
     "metadata": {},
     "output_type": "display_data"
    },
    {
     "data": {
      "text/html": [
       " View project at <a href='https://wandb.ai/siddharth-singh2504-iiit-hyderabad/resnet-experiments' target=\"_blank\">https://wandb.ai/siddharth-singh2504-iiit-hyderabad/resnet-experiments</a>"
      ],
      "text/plain": [
       "<IPython.core.display.HTML object>"
      ]
     },
     "metadata": {},
     "output_type": "display_data"
    },
    {
     "data": {
      "text/html": [
       " View run at <a href='https://wandb.ai/siddharth-singh2504-iiit-hyderabad/resnet-experiments/runs/hp327w24' target=\"_blank\">https://wandb.ai/siddharth-singh2504-iiit-hyderabad/resnet-experiments/runs/hp327w24</a>"
      ],
      "text/plain": [
       "<IPython.core.display.HTML object>"
      ]
     },
     "metadata": {},
     "output_type": "display_data"
    },
    {
     "name": "stdout",
     "output_type": "stream",
     "text": [
      "Epoch 1: Train Loss: 0.6577, Train Acc: 77.38% | Test Loss: 0.3997, Test Acc: 86.30% | LR: 0.0001\n",
      "Epoch 2: Train Loss: 0.2816, Train Acc: 90.42% | Test Loss: 0.3402, Test Acc: 88.26% | LR: 0.0001\n",
      "Epoch 3: Train Loss: 0.1450, Train Acc: 95.04% | Test Loss: 0.3311, Test Acc: 89.34% | LR: 0.0001\n",
      "Epoch 4: Train Loss: 0.0987, Train Acc: 96.68% | Test Loss: 0.3327, Test Acc: 89.69% | LR: 0.0001\n",
      "Epoch 5: Train Loss: 0.0681, Train Acc: 97.65% | Test Loss: 0.3714, Test Acc: 89.77% | LR: 0.0001\n",
      "Epoch 6: Train Loss: 0.0572, Train Acc: 98.02% | Test Loss: 0.3706, Test Acc: 89.70% | LR: 0.0001\n",
      "Epoch 7: Train Loss: 0.0488, Train Acc: 98.36% | Test Loss: 0.3708, Test Acc: 90.42% | LR: 0.0001\n",
      "Epoch 8: Train Loss: 0.0463, Train Acc: 98.36% | Test Loss: 0.3971, Test Acc: 89.47% | LR: 0.0001\n",
      "Epoch 9: Train Loss: 0.0398, Train Acc: 98.68% | Test Loss: 0.4120, Test Acc: 89.49% | LR: 0.0001\n",
      "Epoch 10: Train Loss: 0.0363, Train Acc: 98.77% | Test Loss: 0.3517, Test Acc: 91.20% | LR: 0.0001\n"
     ]
    },
    {
     "data": {
      "text/html": [],
      "text/plain": [
       "<IPython.core.display.HTML object>"
      ]
     },
     "metadata": {},
     "output_type": "display_data"
    },
    {
     "data": {
      "text/html": [
       "<br>    <style><br>        .wandb-row {<br>            display: flex;<br>            flex-direction: row;<br>            flex-wrap: wrap;<br>            justify-content: flex-start;<br>            width: 100%;<br>        }<br>        .wandb-col {<br>            display: flex;<br>            flex-direction: column;<br>            flex-basis: 100%;<br>            flex: 1;<br>            padding: 10px;<br>        }<br>    </style><br><div class=\"wandb-row\"><div class=\"wandb-col\"><h3>Run history:</h3><br/><table class=\"wandb\"><tr><td>epoch</td><td>▁▂▃▃▄▅▆▆▇█</td></tr><tr><td>learning_rate</td><td>▁▁▁▁▁▁▁▁▁▁</td></tr><tr><td>test_accuracy</td><td>▁▄▅▆▆▆▇▆▆█</td></tr><tr><td>test_loss</td><td>▇▂▁▁▄▄▄▇█▃</td></tr><tr><td>train_accuracy</td><td>▁▅▇▇██████</td></tr><tr><td>train_loss</td><td>█▄▂▂▁▁▁▁▁▁</td></tr></table><br/></div><div class=\"wandb-col\"><h3>Run summary:</h3><br/><table class=\"wandb\"><tr><td>epoch</td><td>10</td></tr><tr><td>learning_rate</td><td>0.0001</td></tr><tr><td>test_accuracy</td><td>91.2</td></tr><tr><td>test_loss</td><td>0.35168</td></tr><tr><td>train_accuracy</td><td>98.774</td></tr><tr><td>train_loss</td><td>0.0363</td></tr></table><br/></div></div>"
      ],
      "text/plain": [
       "<IPython.core.display.HTML object>"
      ]
     },
     "metadata": {},
     "output_type": "display_data"
    },
    {
     "data": {
      "text/html": [
       " View run <strong style=\"color:#cdcd00\">Modified_Pretrained_A</strong> at: <a href='https://wandb.ai/siddharth-singh2504-iiit-hyderabad/resnet-experiments/runs/hp327w24' target=\"_blank\">https://wandb.ai/siddharth-singh2504-iiit-hyderabad/resnet-experiments/runs/hp327w24</a><br> View project at: <a href='https://wandb.ai/siddharth-singh2504-iiit-hyderabad/resnet-experiments' target=\"_blank\">https://wandb.ai/siddharth-singh2504-iiit-hyderabad/resnet-experiments</a><br>Synced 5 W&B file(s), 0 media file(s), 0 artifact file(s) and 0 other file(s)"
      ],
      "text/plain": [
       "<IPython.core.display.HTML object>"
      ]
     },
     "metadata": {},
     "output_type": "display_data"
    },
    {
     "data": {
      "text/html": [
       "Find logs at: <code>./wandb/run-20250214_204812-hp327w24/logs</code>"
      ],
      "text/plain": [
       "<IPython.core.display.HTML object>"
      ]
     },
     "metadata": {},
     "output_type": "display_data"
    },
    {
     "name": "stdout",
     "output_type": "stream",
     "text": [
      "=== Training ModifiedResNet18_Pretrained_B ===\n"
     ]
    },
    {
     "data": {
      "text/html": [
       "Tracking run with wandb version 0.19.4"
      ],
      "text/plain": [
       "<IPython.core.display.HTML object>"
      ]
     },
     "metadata": {},
     "output_type": "display_data"
    },
    {
     "data": {
      "text/html": [
       "Run data is saved locally in <code>/mnt/c/Users/siddharth/md-intro-tutorial/md-intro-tutorial-main/wandb/run-20250214_205713-ei95k4ts</code>"
      ],
      "text/plain": [
       "<IPython.core.display.HTML object>"
      ]
     },
     "metadata": {},
     "output_type": "display_data"
    },
    {
     "data": {
      "text/html": [
       "Syncing run <strong><a href='https://wandb.ai/siddharth-singh2504-iiit-hyderabad/resnet-experiments/runs/ei95k4ts' target=\"_blank\">cute-dove-35</a></strong> to <a href='https://wandb.ai/siddharth-singh2504-iiit-hyderabad/resnet-experiments' target=\"_blank\">Weights & Biases</a> (<a href='https://wandb.me/developer-guide' target=\"_blank\">docs</a>)<br>"
      ],
      "text/plain": [
       "<IPython.core.display.HTML object>"
      ]
     },
     "metadata": {},
     "output_type": "display_data"
    },
    {
     "data": {
      "text/html": [
       " View project at <a href='https://wandb.ai/siddharth-singh2504-iiit-hyderabad/resnet-experiments' target=\"_blank\">https://wandb.ai/siddharth-singh2504-iiit-hyderabad/resnet-experiments</a>"
      ],
      "text/plain": [
       "<IPython.core.display.HTML object>"
      ]
     },
     "metadata": {},
     "output_type": "display_data"
    },
    {
     "data": {
      "text/html": [
       " View run at <a href='https://wandb.ai/siddharth-singh2504-iiit-hyderabad/resnet-experiments/runs/ei95k4ts' target=\"_blank\">https://wandb.ai/siddharth-singh2504-iiit-hyderabad/resnet-experiments/runs/ei95k4ts</a>"
      ],
      "text/plain": [
       "<IPython.core.display.HTML object>"
      ]
     },
     "metadata": {},
     "output_type": "display_data"
    },
    {
     "data": {
      "text/html": [],
      "text/plain": [
       "<IPython.core.display.HTML object>"
      ]
     },
     "metadata": {},
     "output_type": "display_data"
    },
    {
     "data": {
      "text/html": [
       " View run <strong style=\"color:#cdcd00\">Modified_Pretrained_B</strong> at: <a href='https://wandb.ai/siddharth-singh2504-iiit-hyderabad/resnet-experiments/runs/ei95k4ts' target=\"_blank\">https://wandb.ai/siddharth-singh2504-iiit-hyderabad/resnet-experiments/runs/ei95k4ts</a><br> View project at: <a href='https://wandb.ai/siddharth-singh2504-iiit-hyderabad/resnet-experiments' target=\"_blank\">https://wandb.ai/siddharth-singh2504-iiit-hyderabad/resnet-experiments</a><br>Synced 5 W&B file(s), 0 media file(s), 0 artifact file(s) and 0 other file(s)"
      ],
      "text/plain": [
       "<IPython.core.display.HTML object>"
      ]
     },
     "metadata": {},
     "output_type": "display_data"
    },
    {
     "data": {
      "text/html": [
       "Find logs at: <code>./wandb/run-20250214_205713-ei95k4ts/logs</code>"
      ],
      "text/plain": [
       "<IPython.core.display.HTML object>"
      ]
     },
     "metadata": {},
     "output_type": "display_data"
    },
    {
     "data": {
      "text/html": [
       "Tracking run with wandb version 0.19.4"
      ],
      "text/plain": [
       "<IPython.core.display.HTML object>"
      ]
     },
     "metadata": {},
     "output_type": "display_data"
    },
    {
     "data": {
      "text/html": [
       "Run data is saved locally in <code>/mnt/c/Users/siddharth/md-intro-tutorial/md-intro-tutorial-main/wandb/run-20250214_205713-tmy58dh2</code>"
      ],
      "text/plain": [
       "<IPython.core.display.HTML object>"
      ]
     },
     "metadata": {},
     "output_type": "display_data"
    },
    {
     "data": {
      "text/html": [
       "Syncing run <strong><a href='https://wandb.ai/siddharth-singh2504-iiit-hyderabad/resnet-experiments/runs/tmy58dh2' target=\"_blank\">Modified_Pretrained_B</a></strong> to <a href='https://wandb.ai/siddharth-singh2504-iiit-hyderabad/resnet-experiments' target=\"_blank\">Weights & Biases</a> (<a href='https://wandb.me/developer-guide' target=\"_blank\">docs</a>)<br>"
      ],
      "text/plain": [
       "<IPython.core.display.HTML object>"
      ]
     },
     "metadata": {},
     "output_type": "display_data"
    },
    {
     "data": {
      "text/html": [
       " View project at <a href='https://wandb.ai/siddharth-singh2504-iiit-hyderabad/resnet-experiments' target=\"_blank\">https://wandb.ai/siddharth-singh2504-iiit-hyderabad/resnet-experiments</a>"
      ],
      "text/plain": [
       "<IPython.core.display.HTML object>"
      ]
     },
     "metadata": {},
     "output_type": "display_data"
    },
    {
     "data": {
      "text/html": [
       " View run at <a href='https://wandb.ai/siddharth-singh2504-iiit-hyderabad/resnet-experiments/runs/tmy58dh2' target=\"_blank\">https://wandb.ai/siddharth-singh2504-iiit-hyderabad/resnet-experiments/runs/tmy58dh2</a>"
      ],
      "text/plain": [
       "<IPython.core.display.HTML object>"
      ]
     },
     "metadata": {},
     "output_type": "display_data"
    },
    {
     "name": "stdout",
     "output_type": "stream",
     "text": [
      "Epoch 1: Train Loss: 0.6366, Train Acc: 78.21% | Test Loss: 0.3855, Test Acc: 86.82% | LR: 0.0001\n",
      "Epoch 2: Train Loss: 0.2743, Train Acc: 90.64% | Test Loss: 0.2971, Test Acc: 89.85% | LR: 0.0001\n",
      "Epoch 3: Train Loss: 0.1471, Train Acc: 95.04% | Test Loss: 0.2867, Test Acc: 90.27% | LR: 0.0001\n",
      "Epoch 4: Train Loss: 0.0915, Train Acc: 96.99% | Test Loss: 0.2808, Test Acc: 90.84% | LR: 0.0001\n",
      "Epoch 5: Train Loss: 0.0657, Train Acc: 97.83% | Test Loss: 0.2971, Test Acc: 90.95% | LR: 0.0001\n",
      "Epoch 6: Train Loss: 0.0539, Train Acc: 98.22% | Test Loss: 0.3345, Test Acc: 89.95% | LR: 0.0001\n",
      "Epoch 7: Train Loss: 0.0453, Train Acc: 98.54% | Test Loss: 0.3161, Test Acc: 90.67% | LR: 0.0001\n",
      "Epoch 8: Train Loss: 0.0406, Train Acc: 98.67% | Test Loss: 0.3154, Test Acc: 91.19% | LR: 0.0001\n",
      "Epoch 9: Train Loss: 0.0393, Train Acc: 98.65% | Test Loss: 0.3092, Test Acc: 91.48% | LR: 0.0001\n",
      "Epoch 10: Train Loss: 0.0339, Train Acc: 98.89% | Test Loss: 0.3339, Test Acc: 91.12% | LR: 0.0001\n"
     ]
    },
    {
     "data": {
      "text/html": [],
      "text/plain": [
       "<IPython.core.display.HTML object>"
      ]
     },
     "metadata": {},
     "output_type": "display_data"
    },
    {
     "data": {
      "text/html": [
       "<br>    <style><br>        .wandb-row {<br>            display: flex;<br>            flex-direction: row;<br>            flex-wrap: wrap;<br>            justify-content: flex-start;<br>            width: 100%;<br>        }<br>        .wandb-col {<br>            display: flex;<br>            flex-direction: column;<br>            flex-basis: 100%;<br>            flex: 1;<br>            padding: 10px;<br>        }<br>    </style><br><div class=\"wandb-row\"><div class=\"wandb-col\"><h3>Run history:</h3><br/><table class=\"wandb\"><tr><td>epoch</td><td>▁▂▃▃▄▅▆▆▇█</td></tr><tr><td>learning_rate</td><td>▁▁▁▁▁▁▁▁▁▁</td></tr><tr><td>test_accuracy</td><td>▁▆▆▇▇▆▇██▇</td></tr><tr><td>test_loss</td><td>█▂▁▁▂▅▃▃▃▅</td></tr><tr><td>train_accuracy</td><td>▁▅▇▇██████</td></tr><tr><td>train_loss</td><td>█▄▂▂▁▁▁▁▁▁</td></tr></table><br/></div><div class=\"wandb-col\"><h3>Run summary:</h3><br/><table class=\"wandb\"><tr><td>epoch</td><td>10</td></tr><tr><td>learning_rate</td><td>0.0001</td></tr><tr><td>test_accuracy</td><td>91.12</td></tr><tr><td>test_loss</td><td>0.33388</td></tr><tr><td>train_accuracy</td><td>98.886</td></tr><tr><td>train_loss</td><td>0.03394</td></tr></table><br/></div></div>"
      ],
      "text/plain": [
       "<IPython.core.display.HTML object>"
      ]
     },
     "metadata": {},
     "output_type": "display_data"
    },
    {
     "data": {
      "text/html": [
       " View run <strong style=\"color:#cdcd00\">Modified_Pretrained_B</strong> at: <a href='https://wandb.ai/siddharth-singh2504-iiit-hyderabad/resnet-experiments/runs/tmy58dh2' target=\"_blank\">https://wandb.ai/siddharth-singh2504-iiit-hyderabad/resnet-experiments/runs/tmy58dh2</a><br> View project at: <a href='https://wandb.ai/siddharth-singh2504-iiit-hyderabad/resnet-experiments' target=\"_blank\">https://wandb.ai/siddharth-singh2504-iiit-hyderabad/resnet-experiments</a><br>Synced 5 W&B file(s), 0 media file(s), 0 artifact file(s) and 0 other file(s)"
      ],
      "text/plain": [
       "<IPython.core.display.HTML object>"
      ]
     },
     "metadata": {},
     "output_type": "display_data"
    },
    {
     "data": {
      "text/html": [
       "Find logs at: <code>./wandb/run-20250214_205713-tmy58dh2/logs</code>"
      ],
      "text/plain": [
       "<IPython.core.display.HTML object>"
      ]
     },
     "metadata": {},
     "output_type": "display_data"
    },
    {
     "name": "stdout",
     "output_type": "stream",
     "text": [
      "=== Training ModifiedResNet18_Pretrained_C ===\n"
     ]
    },
    {
     "data": {
      "text/html": [
       "Tracking run with wandb version 0.19.4"
      ],
      "text/plain": [
       "<IPython.core.display.HTML object>"
      ]
     },
     "metadata": {},
     "output_type": "display_data"
    },
    {
     "data": {
      "text/html": [
       "Run data is saved locally in <code>/mnt/c/Users/siddharth/md-intro-tutorial/md-intro-tutorial-main/wandb/run-20250214_211715-10nmdqee</code>"
      ],
      "text/plain": [
       "<IPython.core.display.HTML object>"
      ]
     },
     "metadata": {},
     "output_type": "display_data"
    },
    {
     "data": {
      "text/html": [
       "Syncing run <strong><a href='https://wandb.ai/siddharth-singh2504-iiit-hyderabad/resnet-experiments/runs/10nmdqee' target=\"_blank\">charming-ring-37</a></strong> to <a href='https://wandb.ai/siddharth-singh2504-iiit-hyderabad/resnet-experiments' target=\"_blank\">Weights & Biases</a> (<a href='https://wandb.me/developer-guide' target=\"_blank\">docs</a>)<br>"
      ],
      "text/plain": [
       "<IPython.core.display.HTML object>"
      ]
     },
     "metadata": {},
     "output_type": "display_data"
    },
    {
     "data": {
      "text/html": [
       " View project at <a href='https://wandb.ai/siddharth-singh2504-iiit-hyderabad/resnet-experiments' target=\"_blank\">https://wandb.ai/siddharth-singh2504-iiit-hyderabad/resnet-experiments</a>"
      ],
      "text/plain": [
       "<IPython.core.display.HTML object>"
      ]
     },
     "metadata": {},
     "output_type": "display_data"
    },
    {
     "data": {
      "text/html": [
       " View run at <a href='https://wandb.ai/siddharth-singh2504-iiit-hyderabad/resnet-experiments/runs/10nmdqee' target=\"_blank\">https://wandb.ai/siddharth-singh2504-iiit-hyderabad/resnet-experiments/runs/10nmdqee</a>"
      ],
      "text/plain": [
       "<IPython.core.display.HTML object>"
      ]
     },
     "metadata": {},
     "output_type": "display_data"
    },
    {
     "data": {
      "text/html": [],
      "text/plain": [
       "<IPython.core.display.HTML object>"
      ]
     },
     "metadata": {},
     "output_type": "display_data"
    },
    {
     "data": {
      "text/html": [
       " View run <strong style=\"color:#cdcd00\">Modified_Pretrained_C</strong> at: <a href='https://wandb.ai/siddharth-singh2504-iiit-hyderabad/resnet-experiments/runs/10nmdqee' target=\"_blank\">https://wandb.ai/siddharth-singh2504-iiit-hyderabad/resnet-experiments/runs/10nmdqee</a><br> View project at: <a href='https://wandb.ai/siddharth-singh2504-iiit-hyderabad/resnet-experiments' target=\"_blank\">https://wandb.ai/siddharth-singh2504-iiit-hyderabad/resnet-experiments</a><br>Synced 5 W&B file(s), 0 media file(s), 0 artifact file(s) and 0 other file(s)"
      ],
      "text/plain": [
       "<IPython.core.display.HTML object>"
      ]
     },
     "metadata": {},
     "output_type": "display_data"
    },
    {
     "data": {
      "text/html": [
       "Find logs at: <code>./wandb/run-20250214_211715-10nmdqee/logs</code>"
      ],
      "text/plain": [
       "<IPython.core.display.HTML object>"
      ]
     },
     "metadata": {},
     "output_type": "display_data"
    },
    {
     "data": {
      "text/html": [
       "Tracking run with wandb version 0.19.4"
      ],
      "text/plain": [
       "<IPython.core.display.HTML object>"
      ]
     },
     "metadata": {},
     "output_type": "display_data"
    },
    {
     "data": {
      "text/html": [
       "Run data is saved locally in <code>/mnt/c/Users/siddharth/md-intro-tutorial/md-intro-tutorial-main/wandb/run-20250214_211715-arexlxvv</code>"
      ],
      "text/plain": [
       "<IPython.core.display.HTML object>"
      ]
     },
     "metadata": {},
     "output_type": "display_data"
    },
    {
     "data": {
      "text/html": [
       "Syncing run <strong><a href='https://wandb.ai/siddharth-singh2504-iiit-hyderabad/resnet-experiments/runs/arexlxvv' target=\"_blank\">Modified_Pretrained_C</a></strong> to <a href='https://wandb.ai/siddharth-singh2504-iiit-hyderabad/resnet-experiments' target=\"_blank\">Weights & Biases</a> (<a href='https://wandb.me/developer-guide' target=\"_blank\">docs</a>)<br>"
      ],
      "text/plain": [
       "<IPython.core.display.HTML object>"
      ]
     },
     "metadata": {},
     "output_type": "display_data"
    },
    {
     "data": {
      "text/html": [
       " View project at <a href='https://wandb.ai/siddharth-singh2504-iiit-hyderabad/resnet-experiments' target=\"_blank\">https://wandb.ai/siddharth-singh2504-iiit-hyderabad/resnet-experiments</a>"
      ],
      "text/plain": [
       "<IPython.core.display.HTML object>"
      ]
     },
     "metadata": {},
     "output_type": "display_data"
    },
    {
     "data": {
      "text/html": [
       " View run at <a href='https://wandb.ai/siddharth-singh2504-iiit-hyderabad/resnet-experiments/runs/arexlxvv' target=\"_blank\">https://wandb.ai/siddharth-singh2504-iiit-hyderabad/resnet-experiments/runs/arexlxvv</a>"
      ],
      "text/plain": [
       "<IPython.core.display.HTML object>"
      ]
     },
     "metadata": {},
     "output_type": "display_data"
    },
    {
     "name": "stdout",
     "output_type": "stream",
     "text": [
      "Epoch 1: Train Loss: 0.7885, Train Acc: 72.96% | Test Loss: 0.5317, Test Acc: 81.74% | LR: 0.0001\n",
      "Epoch 2: Train Loss: 0.4013, Train Acc: 86.49% | Test Loss: 0.3815, Test Acc: 87.15% | LR: 0.0001\n",
      "Epoch 3: Train Loss: 0.2598, Train Acc: 91.29% | Test Loss: 0.3568, Test Acc: 87.98% | LR: 0.0001\n",
      "Epoch 4: Train Loss: 0.1714, Train Acc: 94.43% | Test Loss: 0.3311, Test Acc: 88.87% | LR: 0.0001\n",
      "Epoch 5: Train Loss: 0.1184, Train Acc: 96.16% | Test Loss: 0.3453, Test Acc: 88.98% | LR: 0.0001\n",
      "Epoch 6: Train Loss: 0.0866, Train Acc: 97.36% | Test Loss: 0.3324, Test Acc: 89.58% | LR: 0.0001\n",
      "Epoch 7: Train Loss: 0.0711, Train Acc: 97.76% | Test Loss: 0.3759, Test Acc: 88.63% | LR: 0.0001\n",
      "Epoch 8: Train Loss: 0.0642, Train Acc: 97.90% | Test Loss: 0.3575, Test Acc: 89.32% | LR: 0.0001\n",
      "Epoch 9: Train Loss: 0.0547, Train Acc: 98.23% | Test Loss: 0.3715, Test Acc: 89.25% | LR: 0.0001\n",
      "Epoch 10: Train Loss: 0.0468, Train Acc: 98.50% | Test Loss: 0.3772, Test Acc: 89.25% | LR: 0.0001\n"
     ]
    },
    {
     "data": {
      "text/html": [],
      "text/plain": [
       "<IPython.core.display.HTML object>"
      ]
     },
     "metadata": {},
     "output_type": "display_data"
    },
    {
     "data": {
      "text/html": [
       "<br>    <style><br>        .wandb-row {<br>            display: flex;<br>            flex-direction: row;<br>            flex-wrap: wrap;<br>            justify-content: flex-start;<br>            width: 100%;<br>        }<br>        .wandb-col {<br>            display: flex;<br>            flex-direction: column;<br>            flex-basis: 100%;<br>            flex: 1;<br>            padding: 10px;<br>        }<br>    </style><br><div class=\"wandb-row\"><div class=\"wandb-col\"><h3>Run history:</h3><br/><table class=\"wandb\"><tr><td>epoch</td><td>▁▂▃▃▄▅▆▆▇█</td></tr><tr><td>learning_rate</td><td>▁▁▁▁▁▁▁▁▁▁</td></tr><tr><td>test_accuracy</td><td>▁▆▇▇▇█▇███</td></tr><tr><td>test_loss</td><td>█▃▂▁▁▁▃▂▂▃</td></tr><tr><td>train_accuracy</td><td>▁▅▆▇▇█████</td></tr><tr><td>train_loss</td><td>█▄▃▂▂▁▁▁▁▁</td></tr></table><br/></div><div class=\"wandb-col\"><h3>Run summary:</h3><br/><table class=\"wandb\"><tr><td>epoch</td><td>10</td></tr><tr><td>learning_rate</td><td>0.0001</td></tr><tr><td>test_accuracy</td><td>89.25</td></tr><tr><td>test_loss</td><td>0.37722</td></tr><tr><td>train_accuracy</td><td>98.504</td></tr><tr><td>train_loss</td><td>0.04676</td></tr></table><br/></div></div>"
      ],
      "text/plain": [
       "<IPython.core.display.HTML object>"
      ]
     },
     "metadata": {},
     "output_type": "display_data"
    },
    {
     "data": {
      "text/html": [
       " View run <strong style=\"color:#cdcd00\">Modified_Pretrained_C</strong> at: <a href='https://wandb.ai/siddharth-singh2504-iiit-hyderabad/resnet-experiments/runs/arexlxvv' target=\"_blank\">https://wandb.ai/siddharth-singh2504-iiit-hyderabad/resnet-experiments/runs/arexlxvv</a><br> View project at: <a href='https://wandb.ai/siddharth-singh2504-iiit-hyderabad/resnet-experiments' target=\"_blank\">https://wandb.ai/siddharth-singh2504-iiit-hyderabad/resnet-experiments</a><br>Synced 5 W&B file(s), 0 media file(s), 0 artifact file(s) and 0 other file(s)"
      ],
      "text/plain": [
       "<IPython.core.display.HTML object>"
      ]
     },
     "metadata": {},
     "output_type": "display_data"
    },
    {
     "data": {
      "text/html": [
       "Find logs at: <code>./wandb/run-20250214_211715-arexlxvv/logs</code>"
      ],
      "text/plain": [
       "<IPython.core.display.HTML object>"
      ]
     },
     "metadata": {},
     "output_type": "display_data"
    }
   ],
   "source": [
    "import torch\n",
    "import torch.nn as nn\n",
    "import torch.optim as optim\n",
    "import torch.nn.functional as F\n",
    "import torchvision.transforms as transforms\n",
    "from torchvision.models import resnet18, ResNet18_Weights\n",
    "import wandb\n",
    "from torch.utils.data import Dataset, DataLoader\n",
    "from sklearn.metrics import classification_report, confusion_matrix\n",
    "import seaborn as sns\n",
    "import matplotlib.pyplot as plt\n",
    "\n",
    "#############################\n",
    "# Data Loading & Transforms\n",
    "#############################\n",
    "\n",
    "# Load data from .pt files\n",
    "train_data = torch.load(\"Q1/train_data.pt\")  # Shape: (num_samples, 3, 36, 36)\n",
    "train_labels = torch.load(\"Q1/train_labels.pt\")\n",
    "test_data = torch.load(\"Q1/test_data.pt\")\n",
    "test_labels = torch.load(\"Q1/test_labels.pt\")\n",
    "\n",
    "# Custom Dataset that applies a transform to the tensor data\n",
    "class CustomTensorDataset(Dataset):\n",
    "    def __init__(self, data, labels, transform=None):\n",
    "        \"\"\"\n",
    "        data: Tensor of shape (N, 3, H, W)\n",
    "        labels: Tensor of shape (N,)\n",
    "        transform: function to apply to each sample\n",
    "        \"\"\"\n",
    "        self.data = data\n",
    "        self.labels = labels\n",
    "        self.transform = transform\n",
    "        \n",
    "    def __len__(self):\n",
    "        return self.data.shape[0]\n",
    "    \n",
    "    def __getitem__(self, idx):\n",
    "        x = self.data[idx]\n",
    "        y = self.labels[idx]\n",
    "        if self.transform:\n",
    "            x = self.transform(x)\n",
    "        return x, y\n",
    "\n",
    "# Define transforms\n",
    "# For 36x36 images: convert to float, scale to [0,1], then normalize.\n",
    "transform36 = transforms.Compose([\n",
    "    transforms.Lambda(lambda x: x.float() / 255.0),\n",
    "    transforms.Normalize(mean=[0.5, 0.5, 0.5], std=[0.5, 0.5, 0.5])\n",
    "])\n",
    "\n",
    "# For 224x224 images: resize (using bilinear interpolation) then normalize.\n",
    "def resize_and_normalize(x, size=(224, 224)):\n",
    "    x = x.float() / 255.0\n",
    "    x = x.unsqueeze(0)  # (1, 3, 36, 36)\n",
    "    x = F.interpolate(x, size=size, mode='bilinear', align_corners=False)\n",
    "    x = x.squeeze(0)    # back to (3, 224, 224)\n",
    "    x = transforms.Normalize(mean=[0.5, 0.5, 0.5], std=[0.5, 0.5, 0.5])(x)\n",
    "    return x\n",
    "\n",
    "# Create dataset objects\n",
    "train_dataset_36 = CustomTensorDataset(train_data, train_labels, transform=transform36)\n",
    "test_dataset_36 = CustomTensorDataset(test_data, test_labels, transform=transform36)\n",
    "\n",
    "train_dataset_224 = CustomTensorDataset(train_data, train_labels, transform=resize_and_normalize)\n",
    "test_dataset_224 = CustomTensorDataset(test_data, test_labels, transform=resize_and_normalize)\n",
    "\n",
    "# Create DataLoaders\n",
    "train_loader_36 = DataLoader(train_dataset_36, batch_size=32, shuffle=True)\n",
    "test_loader_36 = DataLoader(test_dataset_36, batch_size=32, shuffle=False)\n",
    "train_loader_224 = DataLoader(train_dataset_224, batch_size=32, shuffle=True)\n",
    "test_loader_224 = DataLoader(test_dataset_224, batch_size=32, shuffle=False)\n",
    "\n",
    "#############################\n",
    "# WandB Initialization & Metric Definitions\n",
    "#############################\n",
    "\n",
    "\n",
    "#############################\n",
    "# Training & Evaluation Functions\n",
    "#############################\n",
    "\n",
    "def evaluate_epoch(model, data_loader, criterion, device):\n",
    "    \"\"\"Evaluate model on data_loader and return loss and accuracy.\"\"\"\n",
    "    model.eval()\n",
    "    total_loss, correct, total = 0, 0, 0\n",
    "    with torch.no_grad():\n",
    "        for images, labels in data_loader:\n",
    "            images, labels = images.to(device), labels.to(device)\n",
    "            outputs = model(images)\n",
    "            loss = criterion(outputs, labels)\n",
    "            total_loss += loss.item()\n",
    "            _, predicted = outputs.max(1)\n",
    "            total += labels.size(0)\n",
    "            correct += predicted.eq(labels).sum().item()\n",
    "    avg_loss = total_loss / len(data_loader)\n",
    "    accuracy = 100. * correct / total\n",
    "    return avg_loss, accuracy\n",
    "\n",
    "def train_model(model, train_loader, test_loader, epochs=10, lr=0.001, run_name='default', use_scheduler=False):\n",
    "    \"\"\"\n",
    "    Trains a model and evaluates it on the test set after each epoch.\n",
    "    If use_scheduler is True, uses ReduceLROnPlateau on the test loss.\n",
    "    \"\"\"\n",
    "    device = torch.device(\"cuda\" if torch.cuda.is_available() else \"cpu\")\n",
    "    model.to(device)\n",
    "    criterion = nn.CrossEntropyLoss()\n",
    "    optimizer = optim.Adam(model.parameters(), lr=lr)\n",
    "    \n",
    "    scheduler = None\n",
    "    if use_scheduler:\n",
    "        scheduler = torch.optim.lr_scheduler.ReduceLROnPlateau(optimizer, mode='min',\n",
    "                                                               factor=0.1, patience=2)\n",
    "    \n",
    "    wandb.init(project='resnet-experiments', reinit=True)\n",
    "    wandb.define_metric(\"epoch\")\n",
    "    wandb.define_metric(\"train_loss\", step_metric=\"epoch\")\n",
    "    wandb.define_metric(\"train_accuracy\", step_metric=\"epoch\")\n",
    "    wandb.define_metric(\"test_loss\", step_metric=\"epoch\")\n",
    "    wandb.define_metric(\"test_accuracy\", step_metric=\"epoch\")\n",
    "    wandb.run.name = run_name\n",
    "    run = wandb.init(project='resnet-experiments', name=run_name, reinit=True)\n",
    "    for epoch in range(epochs):\n",
    "        model.train()\n",
    "        total_loss, correct, total = 0, 0, 0\n",
    "        for images, labels in train_loader:\n",
    "            images, labels = images.to(device), labels.to(device)\n",
    "            optimizer.zero_grad()\n",
    "            outputs = model(images)\n",
    "            loss = criterion(outputs, labels)\n",
    "            loss.backward()\n",
    "            optimizer.step()\n",
    "            \n",
    "            total_loss += loss.item()\n",
    "            _, predicted = outputs.max(1)\n",
    "            total += labels.size(0)\n",
    "            correct += predicted.eq(labels).sum().item()\n",
    "        \n",
    "        train_loss = total_loss / len(train_loader)\n",
    "        train_accuracy = 100. * correct / total\n",
    "        \n",
    "        # Evaluate on test set after each epoch\n",
    "        test_loss, test_accuracy = evaluate_epoch(model, test_loader, criterion, device)\n",
    "        \n",
    "        # Step the scheduler if used\n",
    "        if scheduler:\n",
    "            scheduler.step(test_loss)\n",
    "        \n",
    "        # Log all metrics once per epoch, including current learning rate\n",
    "        current_lr = optimizer.param_groups[0]['lr']\n",
    "        wandb.log({\n",
    "            \"epoch\": epoch + 1,\n",
    "            \"train_loss\": train_loss,\n",
    "            \"train_accuracy\": train_accuracy,\n",
    "            \"test_loss\": test_loss,\n",
    "            \"test_accuracy\": test_accuracy,\n",
    "            \"learning_rate\": current_lr\n",
    "        })\n",
    "        \n",
    "        print(f\"Epoch {epoch+1}: Train Loss: {train_loss:.4f}, Train Acc: {train_accuracy:.2f}% | \"\n",
    "              f\"Test Loss: {test_loss:.4f}, Test Acc: {test_accuracy:.2f}% | LR: {current_lr}\")\n",
    "    run.finish()\n",
    "    return model\n",
    "\n",
    "def evaluate_model(model, test_loader):\n",
    "    \"\"\"Evaluate the model and display a classification report and confusion matrix.\"\"\"\n",
    "    device = torch.device(\"cuda\" if torch.cuda.is_available() else \"cpu\")\n",
    "    model.to(device)\n",
    "    model.eval()\n",
    "    y_true, y_pred = [], []\n",
    "    \n",
    "    with torch.no_grad():\n",
    "        for images, labels in test_loader:\n",
    "            images, labels = images.to(device), labels.to(device)\n",
    "            outputs = model(images)\n",
    "            _, predicted = outputs.max(1)\n",
    "            y_true.extend(labels.cpu().numpy())\n",
    "            y_pred.extend(predicted.cpu().numpy())\n",
    "    \n",
    "    print(classification_report(y_true, y_pred))\n",
    "    cm = confusion_matrix(y_true, y_pred)\n",
    "    sns.heatmap(cm, annot=True, fmt='d', cmap='Blues')\n",
    "    plt.xlabel('Predicted')\n",
    "    plt.ylabel('Actual')\n",
    "    plt.show()\n",
    "\n",
    "#############################\n",
    "# Architecture Modifications (for 36x36 input)\n",
    "#############################\n",
    "\n",
    "num_classes = int(train_labels.max().item() + 1)  # Assumes labels are 0-indexed\n",
    "\n",
    "# ---------------------\n",
    "# Models Trained From Scratch\n",
    "# ---------------------\n",
    "\n",
    "# Modification A: Replace conv1 (3×3, stride 1, padding 1) and remove maxpool.\n",
    "class ModifiedResNet18_A(nn.Module):\n",
    "    def __init__(self, num_classes):\n",
    "        super(ModifiedResNet18_A, self).__init__()\n",
    "        self.model = resnet18(weights=None)  # training from scratch\n",
    "        self.model.conv1 = nn.Conv2d(3, 64, kernel_size=3, stride=1, padding=1, bias=False)\n",
    "        self.model.maxpool = nn.Identity()\n",
    "        self.model.fc = nn.Linear(512, num_classes)\n",
    "        \n",
    "    def forward(self, x):\n",
    "        return self.model(x)\n",
    "\n",
    "# Modification B: In addition to A, modify layer2's first block to remove downsampling.\n",
    "class ModifiedResNet18_B(nn.Module):\n",
    "    def __init__(self, num_classes):\n",
    "        super(ModifiedResNet18_B, self).__init__()\n",
    "        self.model = resnet18(weights=None)  # training from scratch\n",
    "        self.model.conv1 = nn.Conv2d(3, 64, kernel_size=3, stride=1, padding=1, bias=False)\n",
    "        self.model.maxpool = nn.Identity()\n",
    "        # Modify layer2's first block\n",
    "        self.model.layer2[0].conv1.stride = (1, 1)\n",
    "        if self.model.layer2[0].downsample is not None:\n",
    "            self.model.layer2[0].downsample[0].stride = (1, 1)\n",
    "        self.model.fc = nn.Linear(512, num_classes)\n",
    "        \n",
    "    def forward(self, x):\n",
    "        return self.model(x)\n",
    "\n",
    "# Modification C: In addition to A and B, also modify layer3's first block to remove downsampling.\n",
    "class ModifiedResNet18_C(nn.Module):\n",
    "    def __init__(self, num_classes):\n",
    "        super(ModifiedResNet18_C, self).__init__()\n",
    "        self.model = resnet18(weights=None)  # training from scratch\n",
    "        self.model.conv1 = nn.Conv2d(3, 64, kernel_size=3, stride=1, padding=1, bias=False)\n",
    "        self.model.maxpool = nn.Identity()\n",
    "        # Modification B\n",
    "        self.model.layer2[0].conv1.stride = (1, 1)\n",
    "        if self.model.layer2[0].downsample is not None:\n",
    "            self.model.layer2[0].downsample[0].stride = (1, 1)\n",
    "        # Modification C\n",
    "        self.model.layer3[0].conv1.stride = (1, 1)\n",
    "        if self.model.layer3[0].downsample is not None:\n",
    "            self.model.layer3[0].downsample[0].stride = (1, 1)\n",
    "        self.model.fc = nn.Linear(512, num_classes)\n",
    "        \n",
    "    def forward(self, x):\n",
    "        return self.model(x)\n",
    "\n",
    "# ---------------------\n",
    "# Pretrained Models with Modifications\n",
    "# ---------------------\n",
    "\n",
    "# Pretrained Modification A:\n",
    "class ModifiedResNet18_Pretrained_A(nn.Module):\n",
    "    def __init__(self, num_classes):\n",
    "        super(ModifiedResNet18_Pretrained_A, self).__init__()\n",
    "        self.model = resnet18(weights=ResNet18_Weights.DEFAULT)\n",
    "        # Replace conv1 and reinitialize\n",
    "        self.model.conv1 = nn.Conv2d(3, 64, kernel_size=3, stride=1, padding=1, bias=False)\n",
    "        nn.init.kaiming_normal_(self.model.conv1.weight, mode='fan_out', nonlinearity='relu')\n",
    "        self.model.maxpool = nn.Identity()\n",
    "        self.model.fc = nn.Linear(512, num_classes)\n",
    "        \n",
    "    def forward(self, x):\n",
    "        return self.model(x)\n",
    "\n",
    "# Pretrained Modification B:\n",
    "class ModifiedResNet18_Pretrained_B(nn.Module):\n",
    "    def __init__(self, num_classes):\n",
    "        super(ModifiedResNet18_Pretrained_B, self).__init__()\n",
    "        self.model = resnet18(weights=ResNet18_Weights.DEFAULT)\n",
    "        self.model.conv1 = nn.Conv2d(3, 64, kernel_size=3, stride=1, padding=1, bias=False)\n",
    "        nn.init.kaiming_normal_(self.model.conv1.weight, mode='fan_out', nonlinearity='relu')\n",
    "        self.model.maxpool = nn.Identity()\n",
    "        self.model.layer2[0].conv1.stride = (1, 1)\n",
    "        if self.model.layer2[0].downsample is not None:\n",
    "            self.model.layer2[0].downsample[0].stride = (1, 1)\n",
    "        self.model.fc = nn.Linear(512, num_classes)\n",
    "        \n",
    "    def forward(self, x):\n",
    "        return self.model(x)\n",
    "\n",
    "# Pretrained Modification C:\n",
    "class ModifiedResNet18_Pretrained_C(nn.Module):\n",
    "    def __init__(self, num_classes):\n",
    "        super(ModifiedResNet18_Pretrained_C, self).__init__()\n",
    "        self.model = resnet18(weights=ResNet18_Weights.DEFAULT)\n",
    "        self.model.conv1 = nn.Conv2d(3, 64, kernel_size=3, stride=1, padding=1, bias=False)\n",
    "        nn.init.kaiming_normal_(self.model.conv1.weight, mode='fan_out', nonlinearity='relu')\n",
    "        self.model.maxpool = nn.Identity()\n",
    "        self.model.layer2[0].conv1.stride = (1, 1)\n",
    "        if self.model.layer2[0].downsample is not None:\n",
    "            self.model.layer2[0].downsample[0].stride = (1, 1)\n",
    "        self.model.layer3[0].conv1.stride = (1, 1)\n",
    "        if self.model.layer3[0].downsample is not None:\n",
    "            self.model.layer3[0].downsample[0].stride = (1, 1)\n",
    "        self.model.fc = nn.Linear(512, num_classes)\n",
    "        \n",
    "    def forward(self, x):\n",
    "        return self.model(x)\n",
    "\n",
    "#############################\n",
    "# Training and Evaluations\n",
    "#############################\n",
    "\n",
    "# --- Training on 36x36 Images ---\n",
    "\n",
    "# print(\"=== Training Standard ResNet18 from Scratch on 36x36 ===\")\n",
    "# model_scratch = resnet18(weights=None)\n",
    "# model_scratch.fc = nn.Linear(512, num_classes)\n",
    "# # Use scheduler for non-pretrained models (lr=0.001)\n",
    "# trained_model_scratch = train_model(model_scratch, train_loader_36, test_loader_36,\n",
    "#                                     epochs=10, lr=0.001, run_name='ResNet18_Scratch_36',\n",
    "#                                     use_scheduler=True)\n",
    "\n",
    "# print(\"=== Training Standard ResNet18 Pretrained on 36x36 ===\")\n",
    "# model_pretrained = resnet18(weights=ResNet18_Weights.DEFAULT)\n",
    "# model_pretrained.fc = nn.Linear(512, num_classes)\n",
    "# # Use lower lr (0.0001) for pretrained models; no scheduler.\n",
    "# trained_model_pretrained = train_model(model_pretrained, train_loader_36, test_loader_36,\n",
    "#                                        epochs=10, lr=0.0001, run_name='ResNet18_Pretrained_36',\n",
    "#                                        use_scheduler=False)\n",
    "\n",
    "# # --- Training on Resized 224x224 Images ---\n",
    "\n",
    "# print(\"=== Training Standard ResNet18 from Scratch on 224x224 ===\")\n",
    "# model_scratch_224 = resnet18(weights=None)\n",
    "# model_scratch_224.fc = nn.Linear(512, num_classes)\n",
    "# trained_model_scratch_224 = train_model(model_scratch_224, train_loader_224, test_loader_224,\n",
    "#                                         epochs=10, lr=0.001, run_name='ResNet18_Scratch_224',\n",
    "#                                         use_scheduler=True)\n",
    "\n",
    "# print(\"=== Training Standard ResNet18 Pretrained on 224x224 ===\")\n",
    "# model_pretrained_224 = resnet18(weights=ResNet18_Weights.DEFAULT)\n",
    "# model_pretrained_224.fc = nn.Linear(512, num_classes)\n",
    "# trained_model_pretrained_224 = train_model(model_pretrained_224, train_loader_224, test_loader_224,\n",
    "#                                            epochs=10, lr=0.0001, run_name='ResNet18_Pretrained_224',\n",
    "#                                            use_scheduler=False)\n",
    "\n",
    "# # --- Training Modified Architectures (from scratch) on 36x36 ---\n",
    "\n",
    "# print(\"=== Training ModifiedResNet18_A (Scratch) ===\")\n",
    "# modelA = ModifiedResNet18_A(num_classes)\n",
    "# trained_modelA = train_model(modelA, train_loader_36, test_loader_36,\n",
    "#                              epochs=10, lr=0.001, run_name='Modified_Scratch_A',\n",
    "#                              use_scheduler=True)\n",
    "\n",
    "# print(\"=== Training ModifiedResNet18_B (Scratch) ===\")\n",
    "# modelB = ModifiedResNet18_B(num_classes)\n",
    "# trained_modelB = train_model(modelB, train_loader_36, test_loader_36,\n",
    "#                              epochs=10, lr=0.001, run_name='Modified_Scratch_B',\n",
    "#                              use_scheduler=True)\n",
    "\n",
    "print(\"=== Training ModifiedResNet18_C (Scratch) ===\")\n",
    "modelC = ModifiedResNet18_C(num_classes)\n",
    "trained_modelC = train_model(modelC, train_loader_36, test_loader_36,\n",
    "                             epochs=10, lr=0.001, run_name='Modified_Scratch_C',\n",
    "                             use_scheduler=True)\n",
    "\n",
    "# --- Training Modified Architectures (Pretrained) on 36x36 ---\n",
    "\n",
    "print(\"=== Training ModifiedResNet18_Pretrained_A ===\")\n",
    "modelPreA = ModifiedResNet18_Pretrained_A(num_classes)\n",
    "trained_modelPreA = train_model(modelPreA, train_loader_36, test_loader_36,\n",
    "                                epochs=10, lr=0.0001, run_name='Modified_Pretrained_A',\n",
    "                                use_scheduler=False)\n",
    "\n",
    "print(\"=== Training ModifiedResNet18_Pretrained_B ===\")\n",
    "modelPreB = ModifiedResNet18_Pretrained_B(num_classes)\n",
    "trained_modelPreB = train_model(modelPreB, train_loader_36, test_loader_36,\n",
    "                                epochs=10, lr=0.0001, run_name='Modified_Pretrained_B',\n",
    "                                use_scheduler=False)\n",
    "\n",
    "print(\"=== Training ModifiedResNet18_Pretrained_C ===\")\n",
    "modelPreC = ModifiedResNet18_Pretrained_C(num_classes)\n",
    "trained_modelPreC = train_model(modelPreC, train_loader_36, test_loader_36,\n",
    "                                epochs=10, lr=0.0001, run_name='Modified_Pretrained_C',\n",
    "                                use_scheduler=False)\n",
    "\n"
   ]
  },
  {
   "cell_type": "markdown",
   "id": "b0faad8f",
   "metadata": {},
   "source": [
    "# Analysis\n",
    "- larger 224 x 224 images need longer compute as they fill up the gpu storage faster but have better results\n",
    "- pretrained models perform better than non pretrained ones\n",
    "- altering kernel sizes/ maxpool mitigate diff b/w model performance on 36 x 36 vs 224 x 224 images\n",
    "- all plots in /q1"
   ]
  },
  {
   "cell_type": "markdown",
   "id": "378fe82a",
   "metadata": {},
   "source": []
  }
 ],
 "metadata": {
  "kernelspec": {
   "display_name": "md-intro-tutorial",
   "language": "python",
   "name": "python3"
  },
  "language_info": {
   "codemirror_mode": {
    "name": "ipython",
    "version": 3
   },
   "file_extension": ".py",
   "mimetype": "text/x-python",
   "name": "python",
   "nbconvert_exporter": "python",
   "pygments_lexer": "ipython3",
   "version": "3.13.1"
  }
 },
 "nbformat": 4,
 "nbformat_minor": 5
}
